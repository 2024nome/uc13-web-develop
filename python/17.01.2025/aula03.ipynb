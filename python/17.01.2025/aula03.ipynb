{
 "cells": [
  {
   "cell_type": "markdown",
   "metadata": {},
   "source": [
    "01 - Declare uma variável para armazenar o nome de usuário e exiba a mensage:"
   ]
  },
  {
   "cell_type": "code",
   "execution_count": null,
   "metadata": {},
   "outputs": [],
   "source": [
    "nom = input(\"nome\")\n",
    "print(nom)"
   ]
  },
  {
   "cell_type": "markdown",
   "metadata": {},
   "source": [
    "02 - Escreva um programa que solicite dois número ao usuario, some-os e exiba o resultado."
   ]
  },
  {
   "cell_type": "code",
   "execution_count": null,
   "metadata": {},
   "outputs": [
    {
     "name": "stdout",
     "output_type": "stream",
     "text": [
      "o resultando é28\n"
     ]
    }
   ],
   "source": [
    "numero1 = int(input(\"digite o 1º número para soma\"))\n",
    "numero2 = int(input(\"digite o 2º número para soma\"))\n",
    "if numero2  ==0:\n",
    "    print('não posso fazer essa divisão. tente com outro numero.')\n",
    "    exit()\n",
    "resultando = numero1+numero2\n",
    "print(f'o resultando é{resultando}')"
   ]
  },
  {
   "cell_type": "markdown",
   "metadata": {},
   "source": [
    "03 - um usuario informa a  distância percorrida  (em quilômentros, como número interio) e o tempo gasto (em horas, como número descimal). calcule e mostre a velocidade média."
   ]
  },
  {
   "cell_type": "code",
   "execution_count": 10,
   "metadata": {},
   "outputs": [
    {
     "name": "stdout",
     "output_type": "stream",
     "text": [
      "a velocidade média é: 0.92\n"
     ]
    }
   ],
   "source": [
    "km = float(input('escreva a distancia percorrida em km'))\n",
    "horas = float(input('escreva o tempo gasto em horas'))\n",
    "v = km/horas\n",
    "print(\"a velocidade média é: %.2f\"%v)"
   ]
  },
  {
   "cell_type": "markdown",
   "metadata": {},
   "source": [
    "04 - qual o tipo dado resultante na operação:\n",
    "\n",
    "python\n",
    "copiarEditar\n",
    "resultando = 10/3"
   ]
  },
  {
   "cell_type": "code",
   "execution_count": 5,
   "metadata": {},
   "outputs": [
    {
     "name": "stdout",
     "output_type": "stream",
     "text": [
      "<class 'str'>\n",
      "<class 'str'>\n",
      "<class 'float'>\n"
     ]
    }
   ],
   "source": [
    "print(type('python'))\n",
    "print(type('copiarEditar'))\n",
    "print(type(10/3))"
   ]
  }
 ],
 "metadata": {
  "kernelspec": {
   "display_name": "Python 3",
   "language": "python",
   "name": "python3"
  },
  "language_info": {
   "codemirror_mode": {
    "name": "ipython",
    "version": 3
   },
   "file_extension": ".py",
   "mimetype": "text/x-python",
   "name": "python",
   "nbconvert_exporter": "python",
   "pygments_lexer": "ipython3",
   "version": "3.13.1"
  }
 },
 "nbformat": 4,
 "nbformat_minor": 2
}
